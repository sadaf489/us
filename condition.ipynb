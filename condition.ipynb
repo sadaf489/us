{
  "nbformat": 4,
  "nbformat_minor": 0,
  "metadata": {
    "colab": {
      "provenance": []
    },
    "kernelspec": {
      "name": "python3",
      "display_name": "Python 3"
    },
    "language_info": {
      "name": "python"
    }
  },
  "cells": [
    {
      "cell_type": "code",
      "execution_count": 5,
      "metadata": {
        "colab": {
          "base_uri": "https://localhost:8080/"
        },
        "id": "9DM7qFLGzu0e",
        "outputId": "ebf92017-78c9-4cfb-a92b-53305a327d28"
      },
      "outputs": [
        {
          "output_type": "stream",
          "name": "stdout",
          "text": [
            "b is greater than a\n",
            "if statement in python practice\n",
            "code written in statement\n"
          ]
        }
      ],
      "source": [
        "#if statement in python\n",
        "# if statement\n",
        "# if else statement\n",
        "# if else if statement\n",
        "a = 67\n",
        "b = 290\n",
        "if b > a:\n",
        "  print(\"b is greater than a\")\n",
        "  print(\"if statement in python practice\")\n",
        "  print(\"code written in statement\")\n",
        "\n",
        "\n"
      ]
    },
    {
      "cell_type": "code",
      "source": [
        "a = 33\n",
        "\n",
        "b = 200\n",
        "if b > a:\n",
        "    print(\"b is greater than a\")\n",
        "if b< a:\n",
        "    print(\"b is less tan a\")"
      ],
      "metadata": {
        "colab": {
          "base_uri": "https://localhost:8080/"
        },
        "id": "u3Jc1m4T1mcI",
        "outputId": "1f8e243d-1733-4109-8f3b-50a72feaf808"
      },
      "execution_count": 4,
      "outputs": [
        {
          "output_type": "stream",
          "name": "stdout",
          "text": [
            "b is greater than a\n"
          ]
        }
      ]
    },
    {
      "cell_type": "code",
      "source": [],
      "metadata": {
        "id": "n0zUaVfa20Tr"
      },
      "execution_count": null,
      "outputs": []
    },
    {
      "cell_type": "code",
      "source": [
        "if 5 > 30:\n",
        "  print(\"*** this result is product***\")\n",
        "  a=23\n",
        "  b=12\n",
        "  product=a * b\n",
        "  print(\"the answer of product:\", product)\n",
        "else:\n",
        "  print(\"*** result in sum***\")\n",
        "  a=67\n",
        "  b=78\n",
        "  c=46\n",
        "  sum=a=b=c\n",
        "  print(\"*** the result of sum:\", sum)\n"
      ],
      "metadata": {
        "colab": {
          "base_uri": "https://localhost:8080/"
        },
        "id": "RhctvVN63HK4",
        "outputId": "e816cec2-734f-4690-bf1d-007ceab3d339"
      },
      "execution_count": 8,
      "outputs": [
        {
          "output_type": "stream",
          "name": "stdout",
          "text": [
            "*** result in sum***\n",
            "*** the result of sum: 46\n"
          ]
        }
      ]
    },
    {
      "cell_type": "code",
      "source": [
        "x = 41\n",
        "\n",
        "if x > 10:\n",
        "  print(\"Above ten,\")\n",
        "  if x > 20:\n",
        "    print(\"and also above 20!\")\n",
        "  else:\n",
        "    print(\"but not above 20.\")"
      ],
      "metadata": {
        "colab": {
          "base_uri": "https://localhost:8080/"
        },
        "id": "1oFMjP--6HGA",
        "outputId": "cee8ede7-c657-4925-e6a9-622cc05bf569"
      },
      "execution_count": 9,
      "outputs": [
        {
          "output_type": "stream",
          "name": "stdout",
          "text": [
            "Above ten,\n",
            "and also above 20!\n"
          ]
        }
      ]
    },
    {
      "cell_type": "code",
      "source": [
        "a =56\n",
        "if a > 20:\n",
        "  print(\" less 20\" )\n",
        "  print(\" above ten\")\n",
        "  print(\"greater than and equal 15\")\n",
        "  print(\"above 40\")\n",
        "else:\n",
        "  print(\"not above 40.\")\n",
        "  print(\"not less 40\")\n"
      ],
      "metadata": {
        "colab": {
          "base_uri": "https://localhost:8080/"
        },
        "id": "D8Du2lCB6dqw",
        "outputId": "a963f1f0-6aab-4602-9449-d289bd440f3e"
      },
      "execution_count": 10,
      "outputs": [
        {
          "output_type": "stream",
          "name": "stdout",
          "text": [
            " less 20\n",
            " above ten\n",
            "greater than and equal 15\n",
            "above 40\n"
          ]
        }
      ]
    },
    {
      "cell_type": "code",
      "source": [
        "a =56\n",
        "if a < 20:\n",
        "  print(\" less 20\" )\n",
        "  print(\" above ten\")\n",
        "  print(\"greater than and equal 15\")\n",
        "  print(\"above 40\")\n",
        "else:\n",
        "  print(\"not above 40.\")\n",
        "  print(\"not less 40\")"
      ],
      "metadata": {
        "colab": {
          "base_uri": "https://localhost:8080/"
        },
        "id": "LHiK7pzO72SB",
        "outputId": "636c1aa4-ab04-4b92-9d9a-8b0866018705"
      },
      "execution_count": 11,
      "outputs": [
        {
          "output_type": "stream",
          "name": "stdout",
          "text": [
            "not above 40.\n",
            "not less 40\n"
          ]
        }
      ]
    }
  ]
}